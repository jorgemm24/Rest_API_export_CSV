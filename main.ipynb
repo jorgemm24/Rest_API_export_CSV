{
 "cells": [
  {
   "cell_type": "code",
   "execution_count": 1,
   "metadata": {},
   "outputs": [
    {
     "name": "stderr",
     "output_type": "stream",
     "text": [
      "C:\\Users\\USUARIO\\AppData\\Local\\Temp\\ipykernel_1896\\2706632112.py:5: DeprecationWarning: Importing clear_output from IPython.core.display is deprecated since IPython 7.14, please import from IPython display\n",
      "  from IPython.core.display import clear_output\n"
     ]
    }
   ],
   "source": [
    "import requests\n",
    "import json\n",
    "import pandas as pd\n",
    "from time import sleep\n",
    "from IPython.core.display import clear_output"
   ]
  },
  {
   "cell_type": "code",
   "execution_count": 2,
   "metadata": {},
   "outputs": [
    {
     "name": "stdout",
     "output_type": "stream",
     "text": [
      "826\n"
     ]
    }
   ],
   "source": [
    "# Obtener el total de character\n",
    "\n",
    "url = 'https://rickandmortyapi.com/api/character'\n",
    "\n",
    "response = requests.get(url)\n",
    "j = response.json()\n",
    "\n",
    "total_character = j['info']['count']\n",
    "print(total_character)"
   ]
  },
  {
   "cell_type": "code",
   "execution_count": 3,
   "metadata": {},
   "outputs": [
    {
     "name": "stdout",
     "output_type": "stream",
     "text": [
      "Total de personajes procesados: 30\n"
     ]
    }
   ],
   "source": [
    "# Obterner todos los character\n",
    "\n",
    "url_2 = 'https://rickandmortyapi.com/api/character/2'\n",
    "\n",
    "all_character = []\n",
    "\n",
    "i=1\n",
    "while i <= 30:  # se limitara a 30  (total_character)\n",
    "    \n",
    "    dic = {}\n",
    "\n",
    "    print(\"Requesting character {}/{}\".format(i, total_character))   \n",
    "    clear_output(wait = True)   # limpia el print\n",
    "\n",
    "    response = requests.get(f'https://rickandmortyapi.com/api/character/{i}')\n",
    "    j = response.json()\n",
    "     \n",
    "    dic['id'] = j['id']\n",
    "    dic['name'] = j['name']\n",
    "    dic['status'] = j['status']\n",
    "    dic['species'] = j['species']\n",
    "    dic['type'] = j['type']\n",
    "    dic['gender'] = j['gender']\n",
    "    dic['origin'] = j['origin']['name']\n",
    "    dic['location'] = j['location']['name']\n",
    "    dic['created'] = j['created']\n",
    "    \n",
    "\n",
    "    url_origin_ = j['origin']['url']\n",
    "    if url_origin_ == \" \" or url_origin_ == None or url_origin_== \"\":\n",
    "        dic['location_type'] = \"not location info\"\n",
    "    else:\n",
    "        response_2 = requests.get(url_origin_)\n",
    "        j_2 = response_2.json()\n",
    "        dic['location_type'] = j_2['type']\n",
    "        dic['location_dimension'] =  j_2['dimension']\n",
    "\n",
    "    dic['image'] = j['image']\n",
    "    \n",
    "    all_character.append(dic)\n",
    "    i+=1\n",
    "\n",
    "    sleep(0.5)\n",
    "\n",
    "print(f'Total de personajes procesados: {i-1}')"
   ]
  },
  {
   "cell_type": "code",
   "execution_count": 4,
   "metadata": {},
   "outputs": [
    {
     "data": {
      "text/html": [
       "<div>\n",
       "<style scoped>\n",
       "    .dataframe tbody tr th:only-of-type {\n",
       "        vertical-align: middle;\n",
       "    }\n",
       "\n",
       "    .dataframe tbody tr th {\n",
       "        vertical-align: top;\n",
       "    }\n",
       "\n",
       "    .dataframe thead th {\n",
       "        text-align: right;\n",
       "    }\n",
       "</style>\n",
       "<table border=\"1\" class=\"dataframe\">\n",
       "  <thead>\n",
       "    <tr style=\"text-align: right;\">\n",
       "      <th></th>\n",
       "      <th>id</th>\n",
       "      <th>name</th>\n",
       "      <th>status</th>\n",
       "      <th>species</th>\n",
       "      <th>type</th>\n",
       "      <th>gender</th>\n",
       "      <th>origin</th>\n",
       "      <th>location</th>\n",
       "      <th>created</th>\n",
       "      <th>location_type</th>\n",
       "      <th>location_dimension</th>\n",
       "      <th>image</th>\n",
       "    </tr>\n",
       "  </thead>\n",
       "  <tbody>\n",
       "    <tr>\n",
       "      <th>0</th>\n",
       "      <td>1</td>\n",
       "      <td>Rick Sanchez</td>\n",
       "      <td>Alive</td>\n",
       "      <td>Human</td>\n",
       "      <td></td>\n",
       "      <td>Male</td>\n",
       "      <td>Earth (C-137)</td>\n",
       "      <td>Citadel of Ricks</td>\n",
       "      <td>2017-11-04T18:48:46.250Z</td>\n",
       "      <td>Planet</td>\n",
       "      <td>Dimension C-137</td>\n",
       "      <td>https://rickandmortyapi.com/api/character/avat...</td>\n",
       "    </tr>\n",
       "    <tr>\n",
       "      <th>1</th>\n",
       "      <td>2</td>\n",
       "      <td>Morty Smith</td>\n",
       "      <td>Alive</td>\n",
       "      <td>Human</td>\n",
       "      <td></td>\n",
       "      <td>Male</td>\n",
       "      <td>unknown</td>\n",
       "      <td>Citadel of Ricks</td>\n",
       "      <td>2017-11-04T18:50:21.651Z</td>\n",
       "      <td>not location info</td>\n",
       "      <td>NaN</td>\n",
       "      <td>https://rickandmortyapi.com/api/character/avat...</td>\n",
       "    </tr>\n",
       "    <tr>\n",
       "      <th>2</th>\n",
       "      <td>3</td>\n",
       "      <td>Summer Smith</td>\n",
       "      <td>Alive</td>\n",
       "      <td>Human</td>\n",
       "      <td></td>\n",
       "      <td>Female</td>\n",
       "      <td>Earth (Replacement Dimension)</td>\n",
       "      <td>Earth (Replacement Dimension)</td>\n",
       "      <td>2017-11-04T19:09:56.428Z</td>\n",
       "      <td>Planet</td>\n",
       "      <td>Replacement Dimension</td>\n",
       "      <td>https://rickandmortyapi.com/api/character/avat...</td>\n",
       "    </tr>\n",
       "    <tr>\n",
       "      <th>3</th>\n",
       "      <td>4</td>\n",
       "      <td>Beth Smith</td>\n",
       "      <td>Alive</td>\n",
       "      <td>Human</td>\n",
       "      <td></td>\n",
       "      <td>Female</td>\n",
       "      <td>Earth (Replacement Dimension)</td>\n",
       "      <td>Earth (Replacement Dimension)</td>\n",
       "      <td>2017-11-04T19:22:43.665Z</td>\n",
       "      <td>Planet</td>\n",
       "      <td>Replacement Dimension</td>\n",
       "      <td>https://rickandmortyapi.com/api/character/avat...</td>\n",
       "    </tr>\n",
       "    <tr>\n",
       "      <th>4</th>\n",
       "      <td>5</td>\n",
       "      <td>Jerry Smith</td>\n",
       "      <td>Alive</td>\n",
       "      <td>Human</td>\n",
       "      <td></td>\n",
       "      <td>Male</td>\n",
       "      <td>Earth (Replacement Dimension)</td>\n",
       "      <td>Earth (Replacement Dimension)</td>\n",
       "      <td>2017-11-04T19:26:56.301Z</td>\n",
       "      <td>Planet</td>\n",
       "      <td>Replacement Dimension</td>\n",
       "      <td>https://rickandmortyapi.com/api/character/avat...</td>\n",
       "    </tr>\n",
       "  </tbody>\n",
       "</table>\n",
       "</div>"
      ],
      "text/plain": [
       "   id          name status species type  gender  \\\n",
       "0   1  Rick Sanchez  Alive   Human         Male   \n",
       "1   2   Morty Smith  Alive   Human         Male   \n",
       "2   3  Summer Smith  Alive   Human       Female   \n",
       "3   4    Beth Smith  Alive   Human       Female   \n",
       "4   5   Jerry Smith  Alive   Human         Male   \n",
       "\n",
       "                          origin                       location  \\\n",
       "0                  Earth (C-137)               Citadel of Ricks   \n",
       "1                        unknown               Citadel of Ricks   \n",
       "2  Earth (Replacement Dimension)  Earth (Replacement Dimension)   \n",
       "3  Earth (Replacement Dimension)  Earth (Replacement Dimension)   \n",
       "4  Earth (Replacement Dimension)  Earth (Replacement Dimension)   \n",
       "\n",
       "                    created      location_type     location_dimension  \\\n",
       "0  2017-11-04T18:48:46.250Z             Planet        Dimension C-137   \n",
       "1  2017-11-04T18:50:21.651Z  not location info                    NaN   \n",
       "2  2017-11-04T19:09:56.428Z             Planet  Replacement Dimension   \n",
       "3  2017-11-04T19:22:43.665Z             Planet  Replacement Dimension   \n",
       "4  2017-11-04T19:26:56.301Z             Planet  Replacement Dimension   \n",
       "\n",
       "                                               image  \n",
       "0  https://rickandmortyapi.com/api/character/avat...  \n",
       "1  https://rickandmortyapi.com/api/character/avat...  \n",
       "2  https://rickandmortyapi.com/api/character/avat...  \n",
       "3  https://rickandmortyapi.com/api/character/avat...  \n",
       "4  https://rickandmortyapi.com/api/character/avat...  "
      ]
     },
     "execution_count": 4,
     "metadata": {},
     "output_type": "execute_result"
    }
   ],
   "source": [
    "df_characters = pd.DataFrame(all_character)\n",
    "df_characters.head()"
   ]
  },
  {
   "cell_type": "code",
   "execution_count": null,
   "metadata": {},
   "outputs": [],
   "source": [
    "# Exportando a CSV\n",
    "df_characters.to_csv('rickandmorty_character.csv', index=False, sep=\";\")"
   ]
  }
 ],
 "metadata": {
  "kernelspec": {
   "display_name": "Python 3.11.0 64-bit",
   "language": "python",
   "name": "python3"
  },
  "language_info": {
   "codemirror_mode": {
    "name": "ipython",
    "version": 3
   },
   "file_extension": ".py",
   "mimetype": "text/x-python",
   "name": "python",
   "nbconvert_exporter": "python",
   "pygments_lexer": "ipython3",
   "version": "3.11.0"
  },
  "orig_nbformat": 4,
  "vscode": {
   "interpreter": {
    "hash": "52634da84371cba311ea128a5ea7cdc41ff074b781779e754b270ff9f8153cee"
   }
  }
 },
 "nbformat": 4,
 "nbformat_minor": 2
}
